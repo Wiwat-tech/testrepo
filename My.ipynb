{
  "metadata": {
    "kernelspec": {
      "name": "python",
      "display_name": "Pyolite",
      "language": "python"
    },
    "language_info": {
      "codemirror_mode": {
        "name": "python",
        "version": 3
      },
      "file_extension": ".py",
      "mimetype": "text/x-python",
      "name": "python",
      "nbconvert_exporter": "python",
      "pygments_lexer": "ipython3",
      "version": "3.8"
    }
  },
  "nbformat_minor": 4,
  "nbformat": 4,
  "cells": [
    {
      "cell_type": "markdown",
      "source": "# My Jupyter Notebook on IBM Watson Studio",
      "metadata": {}
    },
    {
      "cell_type": "markdown",
      "source": "__Wiwat Wachirapumipak__",
      "metadata": {}
    },
    {
      "cell_type": "markdown",
      "source": "Data scientist",
      "metadata": {}
    },
    {
      "cell_type": "markdown",
      "source": "_I am interested in data science because I love storytelling that data scientist brings to everyone_",
      "metadata": {}
    },
    {
      "cell_type": "markdown",
      "source": "<center>\n    <img src=\"https://s3-api.us-geo.objectstorage.softlayer.net/cf-courses-data/CognitiveClass/Logos/organization_logo/organization_logo.png\" width=\"300\" alt=\"cognitiveclass.ai logo\"  />\n</center>\n",
      "metadata": {}
    },
    {
      "cell_type": "markdown",
      "source": "### The following code tests the Gauss formula",
      "metadata": {}
    },
    {
      "cell_type": "code",
      "source": "def gauss(n):\n    return (n*(n+1))/2\n\ngauss(100) == sum(range(101))",
      "metadata": {
        "trusted": true
      },
      "execution_count": 9,
      "outputs": [
        {
          "execution_count": 9,
          "output_type": "execute_result",
          "data": {
            "text/plain": "True"
          },
          "metadata": {}
        }
      ]
    },
    {
      "cell_type": "markdown",
      "source": "<hr>",
      "metadata": {}
    },
    {
      "cell_type": "markdown",
      "source": " - one\n - two\n - three\n - one\n - two\n - three",
      "metadata": {}
    },
    {
      "cell_type": "markdown",
      "source": "1. one\n2. two\n3. three",
      "metadata": {
        "tags": []
      }
    },
    {
      "cell_type": "markdown",
      "source": "[www.ibm.com](https://www.ibm.com)",
      "metadata": {}
    },
    {
      "cell_type": "markdown",
      "source": "| Num | Date | Result |\n| --- | --- | -: |\n| 1 | 16 Sep | True |",
      "metadata": {}
    }
  ]
}